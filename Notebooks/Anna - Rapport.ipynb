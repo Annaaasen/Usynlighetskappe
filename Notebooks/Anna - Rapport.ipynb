{
 "cells": [
  {
   "cell_type": "markdown",
   "metadata": {},
   "source": [
    "# Computational Essay\n",
    "## FYS2130 - Svingninger og bølger \n",
    "### Vår 2021"
   ]
  },
  {
   "cell_type": "markdown",
   "metadata": {},
   "source": [
    "# Jakten på usynlighetskappen/den tredje dødstalismanen + Problemstilling \n",
    "Alle Harry Potter-fans har vel på et eller annet tidspunkt drømt om å eie Harrys usynlighetskappe. Hvem skulle ha trodd at denne drømmen kan bli til oppfyllelse med tilstrekkelig kunnskap om svingninger og bølger. "
   ]
  },
  {
   "cell_type": "markdown",
   "metadata": {},
   "source": [
    "# Idémyldring\n",
    "- hva er det som gjør noe usynlig?\n",
    "    - Ser det som befinner seg bak objektet i stedet for objektet. Skaper illusjonen av at objektet ikke er der.\n",
    "    - Verktøy\n",
    "        - Brytning \n",
    "            - Snells lov \n",
    "                - Brytningsindeks\n",
    "    -Ideer\n",
    "        - Diskret endring av brytningsindeks \n",
    "            - Ulike lag \n",
    "        - Kontinuerlig endring av brytningsindeks \n",
    "            - inspirasjon hentet fra varm asfalt/ MATMET\n",
    "                - Fermats prinsipp \n",
    "                - Euler-Lagrange eq \n",
    "            - Gausisk form \n",
    "                - Problem er den ekstreme endringen i n (trenger stoff som er tynnere enn vakum)\n",
    "            - Sinus"
   ]
  },
  {
   "cell_type": "markdown",
   "metadata": {},
   "source": [
    "For å kunne konstruere en usynlighetskappe, er vi nødt til å definere hva det er som gjør noe usynlig. En mulig definisjon er at dersom omgivelsene skaper en illusjon om at et tilstedeværende objekt ikke er der, kan vi kalle objektet usynlig. \n",
    "\n",
    "Det som gjør at vi kan se objekter, er lyset de reflekterer og absorberer når de selv blir truffet av lys. En idé kan derfor være å sørge for at lys ikke treffer objektet i det hele tatt ved å omdirigere lyset som går mot objektet. Dette kan gjøres for eksempel ved total refleksjon eller brytning av lys. \n",
    "\n",
    "Brytning av lys forekommer når lyset går fra et medium til et annet med ulik optisk tetthet. Sammenhengen mellom det vi kaller brytningsindeks til et medium og vinkelen lyset går ut med er vist gjennom Snells lov:\n",
    "$$n_1 \\sin (\\theta_1) = n_2 \\sin (\\theta_2)$$\n",
    "\n",
    "I konstruksjonen av en usynlighetskappe, kunne derfor ulike seksjoner av kappen ha hatt ulike brytningsindekser som tilsvarer at lyset som treffer kappen med en gitt vinkel blir brutt langs formen til kappen (TEGNING 1). \n",
    "\n",
    "Det er flere komplikasjoner. For eksempel kommer ikke lys kun fra én kilde."
   ]
  },
  {
   "cell_type": "code",
   "execution_count": null,
   "metadata": {},
   "outputs": [],
   "source": []
  },
  {
   "cell_type": "markdown",
   "metadata": {},
   "source": [
    "#### Kontinuerlig. \n",
    "I stedet for å se på diskrete seksjoner med ulike $n$, kan vi se på en  kontinuerlig endring av denne. Her henter vi inspirasjon fra FYS3140 - Matematiske metoder i fysikk. Fra dette kurset vet vi at \"optical path length\" ($P$) er gitt ved \n",
    "$$P = \\int n(\\vec{r}) ds$$\n",
    "Dersom vi befinner oss i $xy$-planet får vi \n",
    "$$ds = \\sqrt{(dx)^2 + (dy)^2}$$\n",
    "Som gir oss \n",
    "\n",
    "\\begin{align*}\n",
    "P &= \\int_A^B n(x,y)\\sqrt{1 + (y')^2} dx\\\\\n",
    "&= \\int_A^B F (x, y') dx\n",
    "\\end{align*}\n",
    "\n",
    "siden $n(x,y) = n(x, y(x)) = n(x)$ når formen til kappen ($y$) endrer seg langs $x$.\n",
    "\n",
    "På dette kan vi bruke Euler-Lagranges likning som sier: \n",
    "$$\\frac{\\partial F }{\\partial y'} - \\frac{d}{dx} \\left( \\frac{\\partial F }{\\partial y'}\\right) = 0$$\n",
    "Siden $F$ ikke avhenger av $y$, blir første ledd 0. Dette setter kravet om at andre ledd også må være lik 0. Det betyr at \n",
    "\n",
    "\\begin{align*}\n",
    "    \\frac{\\partial F }{\\partial y'} &= K, \\qquad \\text{hvor $K$ er en konstant}\\\\\n",
    "    &= \\frac{n(x) y'}{\\sqrt{1 + (y')^2}} \\tag{*} \\\\\n",
    "\\end{align*}\n",
    "\n",
    "Dersom vi setter vinkelen mellom x-aksen (i positiv retning) og tangenten til en funksjon i et bestemt punkt $x$, kan vi skrive \n",
    "\n",
    "$$\\tan(\\phi) = \\frac{dy}{dx} = y'$$\n",
    "\n",
    "Dette betyr at vi kan skrive $(*)$ som \n",
    "\\begin{align*}\n",
    "    K &= \\frac{n(x) y'}{\\sqrt{1 + (y')^2}} \\cdot \\frac{\\cos \\phi}{\\cos \\phi}\\\\\n",
    "    &= n(x) \\sin \\phi\n",
    "\\end{align*}\n",
    "\n",
    "\n",
    "En noe naturlig form på en kappe kan være formen til en gauss-kurve.  "
   ]
  },
  {
   "cell_type": "code",
   "execution_count": null,
   "metadata": {},
   "outputs": [],
   "source": []
  },
  {
   "cell_type": "markdown",
   "metadata": {},
   "source": [
    "# Antagelser\n",
    "- En person som står i ro og ser et endelig antall vinkler \n",
    "- Lys kommer kun fra veggen ikke ellers i rommet (det er bare veggen som reflekterer lys)\n",
    "- Diskuter dispersjon. \n",
    "- Stoffet har en vertikal \"inngang\" \n",
    "- Bakken der vedkommende står er helt lik veggen (eller liknende) \n",
    "- Befinner oss i xy-planet, men vi kan her anta symmetri om z-aksen. "
   ]
  },
  {
   "cell_type": "markdown",
   "metadata": {},
   "source": [
    "# Kode + forklaringer \n",
    "- Diskret oppdeling \n",
    "- Kontinuerlig oppdeling \n",
    "    - Gauss \n",
    "    - Cosinus "
   ]
  },
  {
   "cell_type": "markdown",
   "metadata": {},
   "source": [
    "# Konklusjon \n",
    "- Er antagelsene fornuftige?\n",
    "- Hvilke endringer kan gjøres?"
   ]
  },
  {
   "cell_type": "code",
   "execution_count": null,
   "metadata": {},
   "outputs": [],
   "source": []
  }
 ],
 "metadata": {
  "kernelspec": {
   "display_name": "Python 3",
   "language": "python",
   "name": "python3"
  },
  "language_info": {
   "codemirror_mode": {
    "name": "ipython",
    "version": 3
   },
   "file_extension": ".py",
   "mimetype": "text/x-python",
   "name": "python",
   "nbconvert_exporter": "python",
   "pygments_lexer": "ipython3",
   "version": "3.8.1"
  }
 },
 "nbformat": 4,
 "nbformat_minor": 4
}
