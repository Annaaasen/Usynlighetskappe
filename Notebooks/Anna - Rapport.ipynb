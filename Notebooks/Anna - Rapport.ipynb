{
 "cells": [
  {
   "cell_type": "markdown",
   "metadata": {},
   "source": [
    "# Computational Essay\n",
    "## FYS2130 - Svingninger og bølger \n",
    "### Vår 2021"
   ]
  },
  {
   "cell_type": "markdown",
   "metadata": {
    "jupyter": {
     "source_hidden": true
    }
   },
   "source": [
    "# Idémyldring\n",
    "- hva er det som gjør noe usynlig?\n",
    "    - Ser det som befinner seg bak objektet i stedet for objektet. Skaper illusjonen av at objektet ikke er der.\n",
    "    \n",
    "    -Ideer\n",
    "        - Diskret endring av brytningsindeks \n",
    "            - Ulike lag \n",
    "        - Kontinuerlig endring av brytningsindeks \n",
    "            - inspirasjon hentet fra varm asfalt/ MATMET\n",
    "                - Fermats prinsipp \n",
    "                - Euler-Lagrange eq \n",
    "            - Gausisk form \n",
    "                - Problem er den ekstreme endringen i n (trenger stoff som er tynnere enn vakum)\n",
    "            - Sinus\n",
    "    - Verktøy\n",
    "        - Brytning \n",
    "            - Snells lov \n",
    "                - Brytningsindeks"
   ]
  },
  {
   "cell_type": "markdown",
   "metadata": {},
   "source": [
    "# Jakten på usynlighetskappen\n",
    "Alle Harry Potter-fans har vel på et eller anne tidpunkt drømt om å eie Harrys usynlighetskappe. Hvem skulle ha trodd at denne drømmen kan gå i oppfyllelse med tilstrekkelig kunnskap om svngninger og bølger. I jakten på den tredje dødstalismanen skal derfor vi, amatørfysikere Anna Pauline Hjertvik Aasen og Nanna Bryne, undersøke mulighetene for å bruke denne kunnskapen til å gjøre et objekt usynlig. \n",
    "\n",
    "For å starte ser vi på hva som gjør et objekt _synlig_. Oppfattelsen av et objekt gjennom synsinntrykk kommer av at lysstråler som reflekteres og absorberes av objektet treffer observatørens synsapparat. Det er derfor tenkelig at om vi ønsker å skjule et objekt, er vi nødt til å sørg*e for at ingen lysstråler treffer objektet, og at det heller er lysstrålene fra omgivelsene som treffer observatøren. \n",
    "\n",
    "Fra informasjon om svningninger og bølger, vet vi at elektromagnetiske bølger som lys kan brytes og omdirigeres. Vi ønsker derfor å se på en situasjon hvor lys fra om givelsene blir brutt til å gå rundt objektet vi ønsker å skjule og over til observatøren. Brytning av lys forekommer når lyset går fra et medium til et annet med ulik optisk tetthet, eller brytningsindeks. I konstruksjonen av en usynlighetskappe, kunne derfor ulike seksjoner av kappen ha hatt ulike brytningsindekser som tilsvarer at lyset som treffer kappen med en gitt vinkel blir brutt langs formen til kappen (TEGNING 1). Dette er altså den generelle idéen vi legger til grunn for resten av prosjektet. \n",
    "\n",
    "(OBS, kan vi klare å lage en kode til dette? Det hadde vært utrolig kult)\n",
    "\n",
    "Selv om vi kunne ha regnet på den diskrete endringen av brytningsindeks, vil vi gjennom Fermats prinsipp og Euler-Lagranges likning enklere kunne finne et uttrykk for en kontinuerlig endring. Her hentet vi inspirasjon fra FYS3140 - Matematiske metoder i fysikk, og et eksempel om oppvarmet asfalt. Vi vet fra dette eksempelet at når asfalt (eller andre liknende overflater) varmes opp til en så høy temperatur at luften over asfalten varmes opp, vil brytningsindeksen til lufta variere såpass mye at lyset fra himmelen avbøyes til det treffer et menneske som ser mot asfalten (TEGNING MED ASFALT). I dette tilfellet fører en lineær endring i brytningindeks til en parabel lysbane. Vi ønsker å benytte samme prinsipper for å bøye lyset fra bak et objekt, rundt objektet og til observatoren. En mulige bane om objektet kan være gaussisk.   (TEGNING AV KONT)\n",
    "\n",
    "Selv om denne idéen er ufattelig god (hehe), har vi visse bekymringer. Hva om lyset kommer inn med en annen høyde eller vinkel? Eller hva med lyset som kommer fra andre steder i rommet, ikke bare bak objektet. For å forenkle situasjonen, har vi derfor valgt å se på en kappe som kan gjøre et objekt usynlig for en observatør som har en fast høyde og avstand fra objektet og dersom det eneste lyset som \"eksisterer\" er lyset som kommer bak fra og normalt på objektet. Vi antar også upolarisert lys. For å håndtere de ulike høydene lyset kan komme fra, implementerer vi flere lag i kappen som alle har en ulik fordeling av brytningsindekser.  (TEGNING MED FLER LAG)"
   ]
  },
  {
   "cell_type": "markdown",
   "metadata": {},
   "source": [
    "## Nødvendig fysikk og matematikk \n",
    "\n",
    "### Snells lov \n",
    "Sammenhengen mellom brytningsindeks til et medium og vinkelen lyset går ut med er vist gjennom Snells lov:\n",
    "$$n_1 \\sin (\\theta_1) = n_2 \\sin (\\theta_2)$$\n",
    "\n",
    "### Utledningen av kontinuerlig n(x) gjennonm Fermats prinsipp og Euler-Lagrange likning\n",
    "I stedet for å se på diskrete seksjoner med ulike $n$, kan vi se på en  kontinuerlig endring av denne. Her henter vi inspirasjon fra FYS3140 - Matematiske metoder i fysikk. Fermats prinsipp sier at \"optical path length\" ($P$) er gitt ved \n",
    "$$P = \\int n(\\vec{r}) ds$$\n",
    "Dersom vi befinner oss i $xy$-planet får vi \n",
    "$$ds = \\sqrt{(dx)^2 + (dy)^2}$$\n",
    "Som gir oss \n",
    "\n",
    "\\begin{align*}\n",
    "P &= \\int_A^B n(x,y)\\sqrt{1 + (y')^2} dx\\\\\n",
    "&= \\int_A^B F (x, y') dx\n",
    "\\end{align*}\n",
    "\n",
    "siden $n(x,y) = n(x, y(x)) = n(x)$ når formen til kappen ($y$) endrer seg langs $x$.\n",
    "\n",
    "På dette kan vi bruke Euler-Lagranges likning som sier: \n",
    "\n",
    "$$\\frac{\\partial F }{\\partial y'} - \\frac{d}{dx} \\left( \\frac{\\partial F }{\\partial y'}\\right) = 0$$\n",
    "\n",
    "Siden $F$ ikke avhenger av $y$, blir første ledd 0. Dette setter kravet om at andre ledd også må være lik 0. Det betyr at \n",
    "\n",
    "\\begin{align*}\n",
    "    \\frac{\\partial F }{\\partial y'} &= K, \\qquad \\text{hvor $K$ er en konstant}\\\\\n",
    "    &= \\frac{n(x) y'}{\\sqrt{1 + (y')^2}} \\tag{*} \\\\\n",
    "\\end{align*}\n",
    "\n",
    "Dersom vi setter vinkelen mellom x-aksen (i positiv retning) og tangenten til en funksjon i et bestemt punkt $x$, kan vi skrive \n",
    "\n",
    "$$\\tan(\\phi) = \\frac{dy}{dx} = y'$$\n",
    "\n",
    "Dette betyr at vi kan skrive $(*)$ som \n",
    "\n",
    "\\begin{align*}\n",
    "    K &= \\frac{n(x) y'}{\\sqrt{1 + (y')^2}} \\cdot \\frac{\\cos \\phi}{\\cos \\phi}\\\\\n",
    "    &= n(x) \\sin \\phi\n",
    "\\end{align*}\n"
   ]
  },
  {
   "cell_type": "markdown",
   "metadata": {},
   "source": [
    "# Antagelser\n",
    "- En person som står i ro og ser et endelig antall vinkler \n",
    "- Lys kommer kun fra veggen ikke ellers i rommet (det er bare veggen som reflekterer lys)\n",
    "- Diskuter dispersjon. \n",
    "- Stoffet har en vertikal \"inngang\" \n",
    "- Bakken der vedkommende står er helt lik veggen (eller liknende) \n",
    "- Befinner oss i xy-planet, men vi kan her anta symmetri om z-aksen. \n",
    "- Antar upolarisert lys (?)\n",
    "- Diskuter transmisjon og refleksjon.\n",
    "    - Tror dessverre det kan bli stor refleksjon i overgangen fra luft til kappe og/eller omvendt. "
   ]
  },
  {
   "cell_type": "markdown",
   "metadata": {},
   "source": [
    "# Kode + forklaringer \n",
    "- Diskret oppdeling \n",
    "- Kontinuerlig oppdeling \n",
    "    - Gauss \n",
    "    - Cosinus "
   ]
  },
  {
   "cell_type": "markdown",
   "metadata": {},
   "source": [
    "# Konklusjon \n",
    "- Er antagelsene fornuftige?\n",
    "- Hvilke endringer kan gjøres?"
   ]
  },
  {
   "cell_type": "code",
   "execution_count": null,
   "metadata": {},
   "outputs": [],
   "source": []
  }
 ],
 "metadata": {
  "kernelspec": {
   "display_name": "Python 3",
   "language": "python",
   "name": "python3"
  },
  "language_info": {
   "codemirror_mode": {
    "name": "ipython",
    "version": 3
   },
   "file_extension": ".py",
   "mimetype": "text/x-python",
   "name": "python",
   "nbconvert_exporter": "python",
   "pygments_lexer": "ipython3",
   "version": "3.8.5"
  }
 },
 "nbformat": 4,
 "nbformat_minor": 4
}
