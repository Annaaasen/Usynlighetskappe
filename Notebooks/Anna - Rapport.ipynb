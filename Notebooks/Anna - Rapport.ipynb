{
 "cells": [
  {
   "cell_type": "markdown",
   "metadata": {},
   "source": [
    "# Jakten på usynlighetskappen\n",
    "## Computational Essay\n",
    "## FYS2130 - Svingninger og bølger \n",
    "### Vår 2021\n",
    "#### Av: Anna Pauline Hjertvik Aasen\n",
    "\n",
    "Alle Harry Potter-fans har vel på et eller anne tidpunkt drømt om å eie Harrys usynlighetskappe. Hvem skulle ha trodd at denne drømmen kan gå i oppfyllelse med tilstrekkelig kunnskap om svngninger og bølger. I jakten på den tredje dødstalismanen skal derfor vi, amatørfysikere Anna Pauline Hjertvik Aasen og Nanna Bryne, undersøke mulighetene for å bruke denne kunnskapen til å gjøre et objekt usynlig. \n",
    "\n",
    "For å starte ser vi på hva som gjør et objekt _synlig_. Oppfattelsen av et objekt gjennom synsinntrykk kommer av at lysstråler som reflekteres (og absorberes) av objektet treffer observatørens synsapparat. Det er derfor tenkelig at om vi ønsker å skjule et objekt, er vi nødt til å sørge for at ingen lysstråler treffer objektet og at det heller er lysstrålene fra omgivelsene som treffer observatøren. \n",
    "\n",
    "Fra kunnskap om svningninger og bølger, vet vi at elektromagnetiske bølger som lys kan brytes og omdirigeres av et skifte i medium. Vi ønsker derfor å se på en situasjon hvor lys fra om givelsene blir brutt til å gå rundt objektet vi ønsker å skjule og over til observatøren. Brytning av lys forekommer når lyset går fra et medium til et annet med ulik optisk tetthet, eller brytningsindeks. I konstruksjonen av en usynlighetskappe, kunne derfor ulike seksjoner av kappen ha hatt ulike brytningsindekser som tilsvarer at lyset som treffer kappen med en gitt vinkel, blir brutt langs formen til kappen (TEGNING 1). Dette er altså den generelle idéen vi legger til grunn for resten av prosjektet. \n",
    "\n",
    "(OBS, kan vi klare å lage en kode til dette? Det hadde vært utrolig kult)\n",
    "\n",
    "Selv om vi kunne ha regnet på den diskrete endringen av brytningsindeks, vil vi gjennom Fermats prinsipp og Euler-Lagranges likning enkelt kunne finne et uttrykk for en kontinuerlig endring. Her hentet vi inspirasjon fra FYS3140 - Matematiske metoder i fysikk, og et eksempel om oppvarmet asfalt. Vi vet fra dette eksempelet at når asfalt (eller andre liknende overflater) varmes opp til en så høy temperatur at luften over asfalten varmes opp, vil brytningsindeksen til luften variere såpass mye at lyset fra himmelen avbøyes og blir det lyset som treffe et menneske som ser mot asfalten (TEGNING MED ASFALT). I dette tilfellet fører en lineær endring i brytningindeks til en parabel lysbane. Vi ønsker å benytte samme prinsipper for å bøye lyset fra bak et objekt, rundt objektet og til observatoren. En mulige bane om objektet kan være gaussisk. Gjennom de matematiske prinsippene nevnt over, ønsker vi å finne et uttrykk for brytningsindeksen $n$.  (TEGNING AV KONT)\n",
    "\n",
    "Selv om denne idéen er ufattelig god (hehe), har vi visse bekymringer. Hva om lyset kommer inn med en annen høyde eller vinkel? Eller hva med lyset som kommer fra andre steder i rommet, ikke bare bak objektet. For å forenkle situasjonen, har vi derfor valgt å se på en kappe som kan gjøre et objekt usynlig for en observatør som har en fast høyde og avstand fra objektet og dersom det eneste lyset som \"eksisterer\" er lyset som kommer bak fra og normalt på objektet. Vi antar også upolarisert lys. For å håndtere de ulike høydene lyset kan komme fra, implementerer vi flere lag i kappen som alle har en ulik fordeling av brytningsindekser. Vi kommer også til å måtte se på problemer som refkesjon vs. transmisjon. (OBS, kommer nesten all energien til å forsvinne i løpet av kappen?) (TEGNING MED FLER LAG) "
   ]
  },
  {
   "cell_type": "markdown",
   "metadata": {},
   "source": [
    "## Nødvendig fysikk og matematikk \n",
    "\n",
    "### Snells lov \n",
    "Sammenhengen mellom brytningsindeks til et medium og vinkelen lyset går ut med er vist gjennom Snells lov:\n",
    "$$n_1 \\sin (\\theta_1) = n_2 \\sin (\\theta_2)$$\n",
    "\n",
    "### Fresnels likninger \n",
    "Refleksjon av elektromagnetiske bølger mot et grensesjikt for vilkårlig vinkel kan regnes ut gjennom Fresnels likninger. Disse er gitt ved \n",
    "\\begin{align*}\n",
    "R_s &= \\left( \\frac{\\cos \\theta_i - n \\cos \\theta_t}{\\cos \\theta_i + n \\cos \\theta_t} \\right)^2 \\qquad \\text{hvor} \\quad n = \\frac{n_2}{n_1}\\\\\n",
    "R_p &= \\left( \\frac{-n^2 \\cos \\theta_i + n \\cos \\theta_t}{n^2 \\cos \\theta_i + n \\cos \\theta_t} \\right)^2\\\\\n",
    "R &= \\frac{1}{2} (R_s + R_p)\n",
    "\\end{align*}\n",
    "Hvor $\\theta_i$ er innfallsvinkelen, $\\theta_t$ er utfallsvinkelen og $R$ er refleksjonen for upolarisert lys. \n",
    "OBS, disse kan skrives som bare avhengige av innfallsvinkel (kanskje det er lurere)\n",
    "\n",
    "\n",
    "### Utledningen av kontinuerlig n(x) gjennonm Fermats prinsipp og Euler-Lagrange likning\n",
    "I stedet for å se på diskrete seksjoner med ulike $n$, kan vi se på en  kontinuerlig endring av denne. Her henter vi inspirasjon fra FYS3140 - Matematiske metoder i fysikk. Fermats prinsipp sier at \"optical path length\" ($P$) er gitt ved \n",
    "$$P = \\int n(\\vec{r}) ds$$\n",
    "\n",
    "Dersom vi befinner oss i $xy$-planet har vi \n",
    "$$ds = \\sqrt{(dx)^2 + (dy)^2}$$\n",
    "Noe som gir oss \n",
    "\n",
    "\\begin{align*}\n",
    "P &= \\int_A^B n(x,y)\\sqrt{1 + (y')^2} dx\\\\\n",
    "&= \\int_A^B F (x, y') dx\n",
    "\\end{align*}\n",
    "\n",
    "siden $n(x,y) = n(x, y(x)) = n(x)$ når formen til kappen ($y$) endrer seg langs $x$.\n",
    "\n",
    "På dette kan vi bruke Euler-Lagranges likning som sier: \n",
    "\n",
    "$$\\frac{\\partial F }{\\partial y'} - \\frac{d}{dx} \\left( \\frac{\\partial F }{\\partial y'}\\right) = 0$$\n",
    "\n",
    "Siden $F$ ikke avhenger av $y$, blir første ledd 0. Dette setter kravet om at andre ledd også må være lik 0. Det betyr at \n",
    "\n",
    "\\begin{align*}\n",
    "    \\frac{\\partial F }{\\partial y'} &= K, \\qquad \\text{hvor $K$ er en konstant}\\\\\n",
    "    &= \\frac{n(x) y'}{\\sqrt{1 + (y')^2}} \\tag{*} \\\\\n",
    "\\end{align*}\n",
    "\n",
    "Dersom vi setter vinkelen mellom x-aksen (i positiv retning) og tangenten til en funksjon i et bestemt punkt $x$, kan vi skrive \n",
    "\n",
    "$$\\tan(\\phi) = \\frac{dy}{dx} = y'$$\n",
    "\n",
    "Dette betyr at vi kan skrive $(*)$ som \n",
    "\n",
    "\\begin{align*}\n",
    "    K &= \\frac{n(x) y'}{\\sqrt{1 + (y')^2}} \\cdot \\frac{\\cos \\phi}{\\cos \\phi}\\\\\n",
    "    &= n(x) \\sin \\phi\n",
    "\\end{align*}\n",
    "\n",
    "Ifølge Snells lov vet vi at produktet av en vinkel og brytningsindeksen alltid skal være konstant. Siden $n$ i luft er gitt ved $1.00$ betyr dette at \n",
    "$$K = n(x) \\sin \\phi = 1 \\sin \\theta_0$$\n",
    "Hvor $\\theta_0$ er vinkelen lyset har i luft/treffer kappen med.\n",
    "\n",
    "Dette gir oss et uttrykk for $n$ hvor har alt vi trenger av informasjon om alle konstantene og variablene:\n",
    "$$n(x) = \\frac{K \\sqrt{1 + (y')^2}}{y'}$$\n"
   ]
  },
  {
   "cell_type": "markdown",
   "metadata": {},
   "source": [
    "vinkelen mellom to funksjoner kan regnes ut via gradienten/stigningstallet i punktet de møtes. MEN vinkelen mellom dem blir ikke innfallsvinkelen. Det blir heller den minus $\\pi/2$ (eller omvendt). Muligens kan vi anta et stoff som er så tynt at vinkelen på stoffet er til å se bortifra.. Blir ikke det litt rart når lyset skal kunne reise gjennom stoffet. Kan evt også anta en rett vinkel på stoffet, men jeg syns fortsatt det er litt rart. "
   ]
  },
  {
   "cell_type": "markdown",
   "metadata": {},
   "source": [
    "# Antagelser\n",
    "- En person som står i ro og ser et endelig antall vinkler \n",
    "- Lys kommer kun fra veggen ikke ellers i rommet (det er bare veggen som reflekterer lys)\n",
    "- Diskuter dispersjon. \n",
    "- Stoffet har en vertikal \"inngang\" \n",
    "- Bakken der vedkommende står er helt lik veggen (eller liknende) \n",
    "- Befinner oss i xy-planet, men vi kan her anta symmetri om z-aksen. \n",
    "- Antar upolarisert lys (?)\n",
    "- Diskuter transmisjon og refleksjon.\n",
    "    - Tror dessverre det kan bli stor refleksjon i overgangen fra luft til kappe og/eller omvendt. "
   ]
  },
  {
   "cell_type": "markdown",
   "metadata": {},
   "source": [
    "# Kode + forklaringer \n",
    "- Diskret oppdeling \n",
    "- Kontinuerlig oppdeling \n",
    "    - Gauss \n",
    "    - Cosinus "
   ]
  },
  {
   "cell_type": "markdown",
   "metadata": {},
   "source": [
    "# Konklusjon \n",
    "- Er antagelsene fornuftige?\n",
    "- Hvilke endringer kan gjøres?"
   ]
  },
  {
   "cell_type": "code",
   "execution_count": null,
   "metadata": {},
   "outputs": [],
   "source": []
  }
 ],
 "metadata": {
  "kernelspec": {
   "display_name": "Python 3",
   "language": "python",
   "name": "python3"
  },
  "language_info": {
   "codemirror_mode": {
    "name": "ipython",
    "version": 3
   },
   "file_extension": ".py",
   "mimetype": "text/x-python",
   "name": "python",
   "nbconvert_exporter": "python",
   "pygments_lexer": "ipython3",
   "version": "3.8.1"
  }
 },
 "nbformat": 4,
 "nbformat_minor": 4
}
