{
 "cells": [
  {
   "cell_type": "markdown",
   "metadata": {},
   "source": [
    "# Har vi funnet en av dødstalismanene?\n",
    "### Computational essay av Nanna Bryne\n",
    "### FYS2130 Svingninger og bølger (våren 2021)"
   ]
  },
  {
   "cell_type": "markdown",
   "metadata": {},
   "source": [
    "Professor i fysikk Erik Adli har instruert oss ungdommer (les: tyveåringer) om \"[...] grunnleggene aspekter om mekaniske og elektriske svingninger, samt en hel del om forskjellige typer bølger.\" (fra emnebeskrivelsen i FYS2130) Det vi ikke visste, var at han er på hemmelig oppdrag fra Galtvort, ute etter å finne en forsvunnet dødstalisman, nemlig Harry Potters usynlighetskappe. Som lærde i magiverdenen, har vi ikke oversett den skjulte agendaen, og anser det som vår plikt overfor rektor McSnurp å gjøre alt vi kan for å finne denne."
   ]
  },
  {
   "cell_type": "markdown",
   "metadata": {},
   "source": [
    "Sammen med medamatørfysiker Anna Pauline Hjertvik Aasen, skal jeg forsøke å bruke det vi har lært til å sette sammen usynlighetskappen. "
   ]
  },
  {
   "cell_type": "code",
   "execution_count": null,
   "metadata": {},
   "outputs": [],
   "source": [
    "import numpy as np\n",
    "import matplotlib.pyplot as plt"
   ]
  },
  {
   "cell_type": "code",
   "execution_count": null,
   "metadata": {},
   "outputs": [],
   "source": [
    "def DeathlyHallows():\n",
    "    cloak = np.array([[-1,0], [1,0], [0,1.35], [-1,0]])\n",
    "    wand = np.array([[0,0], [0,1.35]])\n",
    "    theta = np.linspace(0, 2*np.pi, 1000)\n",
    "    stonex = 0.5*np.cos(theta)\n",
    "    stoney = 0.5*np.sin(theta) + 0.5\n",
    "    plt.plot(cloak[:,0], cloak[:,1], lw=3, c='olive')\n",
    "    plt.plot(wand[:,0], wand[:,1], ls='--', c='grey')\n",
    "    plt.plot(stonex, stoney, ls='--', c='grey')\n",
    "    plt.axis('equal')\n",
    "    plt.title('Dødstalismanene')\n",
    "    plt.show()"
   ]
  },
  {
   "cell_type": "code",
   "execution_count": 1,
   "metadata": {},
   "outputs": [
    {
     "ename": "NameError",
     "evalue": "name 'DeathlyHallows' is not defined",
     "output_type": "error",
     "traceback": [
      "\u001b[0;31m---------------------------------------------------------------------------\u001b[0m",
      "\u001b[0;31mNameError\u001b[0m                                 Traceback (most recent call last)",
      "\u001b[0;32m<ipython-input-1-ad45ebc68f2f>\u001b[0m in \u001b[0;36m<module>\u001b[0;34m\u001b[0m\n\u001b[0;32m----> 1\u001b[0;31m \u001b[0mDeathlyHallows\u001b[0m\u001b[0;34m(\u001b[0m\u001b[0;34m)\u001b[0m\u001b[0;34m\u001b[0m\u001b[0;34m\u001b[0m\u001b[0m\n\u001b[0m",
      "\u001b[0;31mNameError\u001b[0m: name 'DeathlyHallows' is not defined"
     ]
    }
   ],
   "source": [
    "DeathlyHallows()"
   ]
  },
  {
   "cell_type": "code",
   "execution_count": null,
   "metadata": {},
   "outputs": [],
   "source": [
    "\n",
    "\n",
    "A = 1.5 # [m] høyde på kappe\n",
    "sigma = 0.6\n",
    "y = lambda x: A / (sigma * np.sqrt(2*np.pi)) * np.exp(- x**2 / (2*sigma**2))\n",
    "yder = lambda x: -x/(sigma)**2 * y(x)\n",
    "\n",
    "x0 = -1\n",
    "theta0 = np.pi/6\n",
    "theta_ = - np.arctan(yder(x0))\n",
    "n0 = np.sin(theta0) / np.sin(theta_)\n",
    "print(n0)\n",
    "\n",
    "def ref_index(x, y=y, yder=yder):\n",
    "    K = np.sin(theta0)\n",
    "    print(K)\n",
    "\n",
    "    n = lambda x: K * np.sqrt(1+yder(x)**2) / yder(x)\n",
    "\n",
    "    N = n(x)\n",
    "\n",
    "    #N[np.abs(N)>5] = 1\n",
    "    N[np.abs(x)<0.002] = 0\n",
    "\n",
    "    return N\n",
    "\n",
    "\n",
    "\n",
    "\n",
    "x = np.linspace(-2, 2, 5000)\n",
    "plt.plot(x, yder(x), c='grey', ls='--', label='dy/dx')\n",
    "plt.plot(x, y(x), c='yellow', lw=2, label='lyset bevegelse')\n",
    "plt.axis('equal')\n",
    "plt.xlabel('x [m]')\n",
    "plt.ylabel('y [m]')\n",
    "plt.title('Lysets bane')\n",
    "plt.legend()\n",
    "plt.grid('--')\n",
    "plt.show()\n",
    "\n",
    "\n",
    "n1 = ref_index(x)\n",
    "plt.plot(x,n1)\n",
    "plt.title('Brytningsindeks')\n",
    "plt.axvline(x0, ls='--')\n",
    "plt.axis([x0, -x0, -1.5, 1.5])\n",
    "plt.xlabel('x')\n",
    "plt.ylabel('n(x)')\n",
    "plt.show()"
   ]
  }
 ],
 "metadata": {
  "kernelspec": {
   "display_name": "Python 3",
   "language": "python",
   "name": "python3"
  },
  "language_info": {
   "codemirror_mode": {
    "name": "ipython",
    "version": 3
   },
   "file_extension": ".py",
   "mimetype": "text/x-python",
   "name": "python",
   "nbconvert_exporter": "python",
   "pygments_lexer": "ipython3",
   "version": "3.8.1"
  }
 },
 "nbformat": 4,
 "nbformat_minor": 4
}
