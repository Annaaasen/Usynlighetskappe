{
 "cells": [
  {
   "cell_type": "markdown",
   "metadata": {},
   "source": [
    "# Har vi funnet en av dødstalismanene?\n",
    "### Computational essay av Nanna Bryne\n",
    "### FYS2130 Svingninger og bølger (våren 2021)"
   ]
  },
  {
   "cell_type": "markdown",
   "metadata": {},
   "source": [
    "Professor i fysikk Erik Adli har instruert oss ungdommer (les: tyveåringer) om \"[...] grunnleggene aspekter om mekaniske og elektriske svingninger, samt en hel del om forskjellige typer bølger.\" (fra emnebeskrivelsen i FYS2130) Det vi ikke visste, var at han er på hemmelig oppdrag fra Galtvort, ute etter å finne en forsvunnet dødstalisman, nemlig Harry Potters usynlighetskappe. Som lærde i magiverdenen, har vi ikke oversett den skjulte agendaen, og anser det som vår plikt overfor rektor McSnurp å gjøre alt vi kan for å finne denne."
   ]
  },
  {
   "cell_type": "markdown",
   "metadata": {},
   "source": [
    "Sammen med medamatørfysiker Anna Pauline Hjertvik Aasen, skal jeg forsøke å bruke det vi har lært til å sette sammen usynlighetskappen. "
   ]
  },
  {
   "cell_type": "code",
   "execution_count": 1,
   "metadata": {},
   "outputs": [],
   "source": [
    "import numpy as np\n",
    "import matplotlib.pyplot as plt"
   ]
  },
  {
   "cell_type": "code",
   "execution_count": 2,
   "metadata": {},
   "outputs": [],
   "source": [
    "def DeathlyHallows():\n",
    "    cloak = np.array([[-1,0], [1,0], [0,1.35], [-1,0]])\n",
    "    wand = np.array([[0,0], [0,1.35]])\n",
    "    theta = np.linspace(0, 2*np.pi, 1000)\n",
    "    stonex = 0.5*np.cos(theta)\n",
    "    stoney = 0.5*np.sin(theta) + 0.5\n",
    "    plt.plot(cloak[:,0], cloak[:,1], lw=3, c='olive')\n",
    "    plt.plot(wand[:,0], wand[:,1], ls='--', c='grey')\n",
    "    plt.plot(stonex, stoney, ls='--', c='grey')\n",
    "    plt.axis('equal')\n",
    "    plt.title('Dødstalismanene')\n",
    "    plt.show()"
   ]
  },
  {
   "cell_type": "code",
   "execution_count": 3,
   "metadata": {},
   "outputs": [
    {
     "data": {
      "image/png": "[encoded data removed]",
      "text/plain": [
       "<Figure size 432x288 with 1 Axes>"
      ]
     },
     "metadata": {
      "needs_background": "light"
     },
     "output_type": "display_data"
    }
   ],
   "source": [
    "DeathlyHallows()"
   ]
  },
  {
   "cell_type": "markdown",
   "metadata": {},
   "source": [
    "# [problemstilling]\n",
    "Vi skal i utgangspunktet se på materialer som finnes. Dersom dette viser seg umulig, ser vi på hypotetiske materialer. Tanken er å tilpasse brytningen fra innkommende lys slik at det ikke reflekteres synlig lys fra mennesket inni kappen. Vi vil blant annet bruke Snells lov; $$n_i \\sin(i) = n_b \\sin(b),$$ der $n_i$ og $n_b$ er brytningsindeksene til henholdsvis første og andre medium, og $i$ og $b$ er vinklene. Det kan også bli aktuelt å se på impedans. Vi har i tillegg noen ideer som likner mekanismen i en ultralydundersøkelse. Den siste (og kanskje beste) ideen vi har dreier seg om å sette sammen materialer slik at lyset følger en bestemt vei gjennom kappen, altså rundt mennesket. Vi har tenkt til å anta monokromatisk lys, og variere bølgelengder (f.eks. rødt vs. blått lys)."
   ]
  },
  {
   "cell_type": "markdown",
   "metadata": {},
   "source": [
    "# Hvordan skal vi grave ned Harry?\n",
    "\n",
    "Det er mange konsepter i fysikken som kan brukes til å forme et system slik vi ønsker det. Tanken er å rett og slett endre veien synlig lys går for å omgå mennesket under kappen, la oss kalle han Harry. Av fenomener og konsepter som kan endre veien til lys inngår impedans (???), speil (refleksjon), brytning (refraksjon), linser og generell relativitet (e.g. sorte hull). Vi blir nødt til å velge oss en tilnærming til dette problemet som ikke tar for seg altfor mange forskellige fysiske konsepter, da vi ikke har mer enn noen få uker igjen før Harry virkelig må ha kappen sin. Etter mange youtube-videoer, én-til-én-konsultasjoner og sprøe ideer, har vi kommet fram til en strategi. Vi vil endre lysets bane ved hjelp av ulike materialer med ulike brytningsindekser. Denne metoden deler vi opp i de to mulige løsninger. Til å begynne med, tar vi ikke høyde for dispersjon.\n",
    "\n",
    "La oss holde oss i to dimensjoner. Vi ønsker å lage en kappe som leder lyset som i utgangspunktet skal reflekteres av Harrys kropp og føres inn i Voldemorts øyne, i en bane som omgår Harry og heller treffer bakgrunnen. Her er det uendelig mange ting å tenke på, så vi må forenkle situasjonen ganske kraftig. Vi har valgt å fokusere på å tvinge frem bildet av bakgrunnen, fremfor å stanse de innkommende solstrålene som skal treffe Harry og reflekteres. Her tror jeg det passer med en figur:\n",
    "\n",
    "<img src=\"fig1_ce.png\" width=400>\n",
    "\n",
    "**FIGUR 1**: Situasjonen illustrert, med den ønskelige banen til lyset. \n",
    "\n",
    "For enkelhets skyld, sier vi at bakgrunnen er utsyrt med LINSER / SPEIL (???) slik at lyset som reflekteres, reflekteres vannrett inn på baksiden av kappen. Tanken er å lage en kappe som består av materialer i hvilke lyset endrer hastighet. Men hvordan må de vinkles? Og kan vi bøye lyset hvilken som helst vei? Dette skal vi undersøke ved å benytte én av de to følgende modelleringene."
   ]
  },
  {
   "cell_type": "markdown",
   "metadata": {},
   "source": [
    "## **I**: Diskret endring av brytningsindeks $n(\\mathbf{r})$\n",
    "\n",
    "Kan vi sette sammen ulike materialer med ulik brytningsindeks for å lede lyset slik vi vil? Hvor mange ville vi trengt? \n",
    "\n",
    "<img src=\"fig2_ce.png\" width=400>\n",
    "\n",
    "**FIGUR 2**: Diskret endring av brytningsindeks.\n",
    "\n",
    "De ulike lagene har en brytningsindeks tilpasset slik at lyset avbøyes som vist på figuren. Men er det mulig da? Og hvordan kan vi ta høyde for lys fra ulike vinkler? Det blir også nødvendig å se på hvordan materialene må vinkles for å få refraksjon. Illustrasjonen ovenfor er noe misvisende i det at lyset kommer tilsynelatende vinkelrett på det gulgrønne materialet og får en bøyning etter det, noe som strider mot Snells lov. \n",
    "\n",
    "Kanskje må vi ha veldig mange ulike materialer i kappen. Er det enklere å lage en kontinuerlig profil? Vi tenker oss at sonene blir uendelig tynne."
   ]
  },
  {
   "cell_type": "markdown",
   "metadata": {},
   "source": [
    "## **II**: Kontinuerlig endring av brytningsindeks $n(\\mathbf{r})$\n",
    "- gauss (hufsa, kappe)\n",
    "- inspirasjon fra varm asfalt-eksempel\n",
    "\n",
    "Inspirasjonen her er hentet fra en oppgave i FYS3140 (Matematiske metoder i fysikk) som forklarte hvordan og hvorfor vi kan se himmelen i asfalten på varme dager. I korte trekk dreide den seg om å anta en lineær endring i brytningsindeks $n(\\mathbf{r}) = n(y)$ oppover y-aksen som følge av temperaturforskjellen. Ved bruk av Fermats prinsipp  og Euler-Lagrange-likningene som vi skal presentere senere, resulterer dette i at lyset går i en parabel og vi kan lyset fra himmelen når vi kikker skrått nedover (se figur XX).\n",
    "\n",
    "FIGUR 3\n",
    "**FIGUR 3**: Varm asfalt-eksempelet.\n",
    "\n",
    "Vi ser for oss en kappe med en fasong som omgår Harry. Dette ønsker vi skal være banen til lyset. Kan vi, utfra denne, finne den nødvendige funksjonen $n(\\mathbf{r})$? Hvis vi klarer det, kan vi lage flere baner slik at lys fra alle høyder omgår Harry? Eller klarer vi kanskje lede allt av lyset gjennom samme ene kappe-lag?\n",
    "\n",
    "(FIGUR 4 - kont. kurve)\n",
    "**FIGUR 4**: Kontinuerlig endring av brytningsindeks."
   ]
  },
  {
   "cell_type": "markdown",
   "metadata": {},
   "source": [
    "# [Valg av metode]\n",
    "\n",
    "Det virker for oss aller tøffest å lage en kappe med et kontinuerlig brytningsfelt $n(\\mathbf{r})$, så vi går for **II**."
   ]
  },
  {
   "cell_type": "markdown",
   "metadata": {},
   "source": [
    "# Fysikken\n",
    "- Brytningsindeks\n",
    "\n",
    "**Brytningsindeksen** $n$ til et stoff forteller hvor stor evne stoffet har til å lede lys. Indeksen er definert utifra det utgangspunkt at vakuum har $n=1$. Luft er såpass tynt, at brytningsindeksen til denne ofte sies å være som i vakuum, $n=1$. Sammen med Snells lov (denne skal vi komme tilbake til), betyr da dette i praksis at brytningsindeksen til et materiale inneholder informasjon hvor mye lys blir avbøyd i overgangen fra luft/vakuum til nevnt materiale. For eksempel er \n",
    "\n",
    "\n",
    "\n",
    "- Snells lov\n",
    "\n",
    "\n",
    "\n",
    "- Fermats prinsipp & ELE"
   ]
  },
  {
   "cell_type": "markdown",
   "metadata": {},
   "source": [
    "# Magien\n",
    "\n",
    "- antakelser"
   ]
  },
  {
   "cell_type": "code",
   "execution_count": 4,
   "metadata": {},
   "outputs": [
    {
     "name": "stdout",
     "output_type": "stream",
     "text": [
      "-0.6939731015520029\n"
     ]
    },
    {
     "data": {
      "image/png": "[encoded data removed]",
      "text/plain": [
       "<Figure size 432x288 with 1 Axes>"
      ]
     },
     "metadata": {
      "needs_background": "light"
     },
     "output_type": "display_data"
    },
    {
     "name": "stdout",
     "output_type": "stream",
     "text": [
      "0.9999999999999999\n"
     ]
    },
    {
     "data": {
      "image/png": "[encoded data removed]",
      "text/plain": [
       "<Figure size 432x288 with 1 Axes>"
      ]
     },
     "metadata": {
      "needs_background": "light"
     },
     "output_type": "display_data"
    },
    {
     "data": {
      "image/png": "[encoded data removed]",
      "text/plain": [
       "<Figure size 432x288 with 1 Axes>"
      ]
     },
     "metadata": {
      "needs_background": "light"
     },
     "output_type": "display_data"
    }
   ],
   "source": [
    "\n",
    "n_luft=2\n",
    "h0 = 1.5 # [m] height under cloak\n",
    "A = h0\n",
    "sigma0 = 0.6 # [m] std of gauss distr. - determines the witdh of the cloak underneath\n",
    "sigma = sigma0\n",
    "\n",
    "y = lambda x: A * np.exp(- x**2 / (2*sigma**2))\n",
    "yder = lambda x: -x/(sigma)**2 * y(x)\n",
    "\n",
    "x0 = -1\n",
    "theta0 = np.pi /6\n",
    "theta_ = - np.arctan(yder(x0))\n",
    "n0 = np.sin(theta0) / np.sin(theta_)\n",
    "print(n0)\n",
    "\n",
    "def ref_index(x, y=y, yder=yder):\n",
    "    K = np.sin(theta0)*n_luft\n",
    "    print(K)\n",
    "    \n",
    "\n",
    "    n = lambda x: K * np.sqrt(1+yder(x)**2) / yder(x)\n",
    "    theta = lambda x: - np.arctan(yder(x))\n",
    "\n",
    "    N = n(x)\n",
    "\n",
    "    #N[np.abs(N)>5] = 1\n",
    "    N[np.abs(x)<0.002] = 0\n",
    "\n",
    "    return N, theta(x)\n",
    "\n",
    "\n",
    "x = np.linspace(-2, 2, 5000)\n",
    "plt.plot(x, yder(x), c='grey', ls='--', label='dy/dx')\n",
    "plt.plot(x, y(x), c='yellow', lw=2, label='lyset bevegelse')\n",
    "plt.axis('equal')\n",
    "plt.xlabel('x [m]')\n",
    "plt.ylabel('y [m]')\n",
    "plt.title('Lysets bane')\n",
    "plt.legend()\n",
    "plt.grid('--')\n",
    "plt.show()\n",
    "\n",
    "\n",
    "n1, theta = ref_index(x)\n",
    "plt.plot(x,n1)\n",
    "plt.title('Brytningsindeks')\n",
    "plt.axvline(x0, ls='--')\n",
    "plt.axis([x0, -x0, -1.5, 1.5])\n",
    "plt.xlabel('x')\n",
    "plt.ylabel('n(x)')\n",
    "plt.show()\n",
    "\n",
    "\n",
    "plt.plot(x, n1*np.sin(theta))\n",
    "plt.show()"
   ]
  },
  {
   "cell_type": "code",
   "execution_count": 5,
   "metadata": {},
   "outputs": [],
   "source": [
    "# Define parametres\n",
    "\n",
    "# Harry's parametres:\n",
    "h0 = 1.2 # [m] height under cloak\n",
    "w0 = 19 # [m] 1/2 width of first layer\n",
    "wN = w0 # [m] 1/2 width of last layer\n",
    "sigma0 = 7 # [m] std of gauss distr. - determines the shape of the cloak underneath (i.e. how sharp)\n",
    "N = 10 # no. of layers in cloak\n",
    "\n",
    "# Voldemort's parametres:\n",
    "H = 1.5 # [m] height of observant\n",
    "L = 40 # [m] distance from first layer of cloak\n"
   ]
  },
  {
   "cell_type": "code",
   "execution_count": 6,
   "metadata": {},
   "outputs": [
    {
     "ename": "SyntaxError",
     "evalue": "invalid syntax (<ipython-input-6-46e664cc2e6a>, line 55)",
     "output_type": "error",
     "traceback": [
      "\u001b[0;36m  File \u001b[0;32m\"<ipython-input-6-46e664cc2e6a>\"\u001b[0;36m, line \u001b[0;32m55\u001b[0m\n\u001b[0;31m    K =\u001b[0m\n\u001b[0m        ^\u001b[0m\n\u001b[0;31mSyntaxError\u001b[0m\u001b[0;31m:\u001b[0m invalid syntax\n"
     ]
    }
   ],
   "source": [
    "l_ = wN\n",
    "l0 = w0\n",
    "A = h0\n",
    "x1 = 19\n",
    "\n",
    "\n",
    "\n",
    "def gauss(i, N):\n",
    "    dh = 0.0001 # [m]\n",
    "    dH = h0/(N-1)\n",
    "    dsigma = 0.1\n",
    "    dl = (l0-l_)/(N-1)\n",
    "    hi = h0 + i*dh - i*dH\n",
    "    sigmai = sigma0 + i * dsigma\n",
    "    xi = - (l0 - i * dl)\n",
    "    x = np.linspace(xi, l0*2, 1000)\n",
    "    \n",
    "    dx = x[1]-x[0]\n",
    "    \n",
    "    yi = hi * np.exp(-x**2/(2*sigmai**2)) + i*dH\n",
    "    yider = lambda x: -x/sigmai**2 * hi * np.exp(-x**2/(2*sigmai**2))\n",
    "    #yider = np.gradient(yi, dx)\n",
    "    return x, yi, yider(x), yider(x1)\n",
    "\n",
    "for i in range(N):\n",
    "    x, y, yder, tull = gauss(i, N)\n",
    "    plt.plot(x, y)\n",
    "    plt.plot(x, yder, ls='--')\n",
    "    \n",
    "for i in range(N):\n",
    "    x, y = gauss(i, N)[:-2]   \n",
    "    plt.plot([-L-l0, x[0]], [H, y[0]])\n",
    "\n",
    "\n",
    "    \n",
    "plt.grid()    \n",
    "plt.show()\n",
    "\n",
    "K = np.sin(-theta0)\n",
    "print(K)\n",
    "    \n",
    "\n",
    "n = lambda K, yder: K * np.sqrt(1 + yder*yder) / yder\n",
    "#n = lambda K, yder: K / (np.sin(np.arctan(yder)))\n",
    "\n",
    "\n",
    "theta0 =  np.arctan2(H,L)\n",
    "thetaN = np.arctan2((H-h0),(L+l_))\n",
    "print('her', theta0, thetaN)\n",
    "dtheta = (thetaN-theta0)/(N-1)\n",
    "theta = np.linspace(theta0, thetaN+dtheta, N)\n",
    "                   \n",
    "for i in range(N):\n",
    "    x, y, yder, yider_x1 = gauss(i, N)\n",
    "    K = \n",
    "    print(np.sin(-theta[i]))\n",
    "    \n",
    "    ni = n(np.sin(-theta[i]), yder)\n",
    "    #ni[np.abs(x)<0.02] = 0\n",
    "    ni[np.abs(ni)>10] = 1\n",
    "    plt.plot(x, ni)\n",
    "    \n",
    "    \n",
    "plt.axis([-l0*1.1, l0*1.1, -2, 2])\n",
    "plt.grid()    \n",
    "plt.show()\n",
    "\n",
    "                   \n",
    "for i in range(N):\n",
    "    x, y, yder, yider_x1 = gauss(i, N)\n",
    "    phi = np.arctan2(yder,1)\n",
    "\n",
    "    ni = n(np.sin(-theta[i]), yder)\n",
    "    \n",
    "    plt.plot(x, ni*np.sin(phi))\n",
    "    \n",
    "plt.show()\n"
   ]
  },
  {
   "cell_type": "code",
   "execution_count": null,
   "metadata": {},
   "outputs": [],
   "source": []
  },
  {
   "cell_type": "code",
   "execution_count": null,
   "metadata": {},
   "outputs": [],
   "source": []
  },
  {
   "cell_type": "code",
   "execution_count": null,
   "metadata": {},
   "outputs": [],
   "source": []
  },
  {
   "cell_type": "markdown",
   "metadata": {},
   "source": [
    "# [konklusjon]\n",
    "- funker dette?\n",
    "- er antakelsene rimelige?\n",
    "\n",
    "Alle vet rett og slett hvor Harry er gravd ned. Alle vet at Harry er død. Sorry."
   ]
  },
  {
   "cell_type": "code",
   "execution_count": null,
   "metadata": {},
   "outputs": [],
   "source": []
  }
 ],
 "metadata": {
  "kernelspec": {
   "display_name": "Python 3",
   "language": "python",
   "name": "python3"
  },
  "language_info": {
   "codemirror_mode": {
    "name": "ipython",
    "version": 3
   },
   "file_extension": ".py",
   "mimetype": "text/x-python",
   "name": "python",
   "nbconvert_exporter": "python",
   "pygments_lexer": "ipython3",
   "version": "3.8.1"
  }
 },
 "nbformat": 4,
 "nbformat_minor": 4
}
