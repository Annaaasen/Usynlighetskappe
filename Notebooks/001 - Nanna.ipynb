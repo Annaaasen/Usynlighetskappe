{
 "cells": [
  {
   "cell_type": "code",
   "execution_count": 1,
   "metadata": {},
   "outputs": [],
   "source": [
    "# Forsøk på klasse\n",
    "\n",
    "import numpy as np\n",
    "import matplotlib.pyplot as plt\n",
    "import sys\n"
   ]
  },
  {
   "cell_type": "code",
   "execution_count": null,
   "metadata": {},
   "outputs": [],
   "source": [
    "class CloakedPerson:\n",
    "    \n",
    "    def __init__(self, name, height):\n",
    "        self.name, self.h0 = name, height\n",
    "        \n",
    "    \n",
    "class NonObservant:\n",
    "    \n",
    "    def __init__(self, name, height, distance):\n",
    "        self.name, self.H, self.L = name, height, distance\n",
    "\n",
    "class InvisibilityCloak:\n",
    "    def __init__(self, N_layers, std_lim, w_lim):\n",
    "        self.N_layers = N\n",
    "        self.sigma1, self.sigmaN = std_lim\n",
    "        self.w1, self.wN = w_lim\n",
    "        \n",
    "    def GaussCloak(self):\n",
    "        pass\n",
    "        \n",
    "        \n",
    "# or:\n",
    "class SystemParams: # orsomethinglikethat\n",
    "    \n",
    "    def __init__(self):\n",
    "        pass\n",
    "    \n",
    "    def SetCloakedPerson(self, name, height):\n",
    "        self.name, self.h0 = name, height\n",
    "        \n",
    "    def SetNonObservant(self, name, height, distance):\n",
    "        self.name, self.H, self.L = name, height, distance\n",
    "    \n",
    "    def DesignCloak()\n",
    "\n",
    "        "
   ]
  },
  {
   "cell_type": "code",
   "execution_count": null,
   "metadata": {},
   "outputs": [],
   "source": [
    "class MakeInvisibilityCloak:\n",
    "    \n",
    "    def __init__(self, cloakedperson, nonobservant, cloak):\n",
    "        pass\n",
    "    \n",
    "\n"
   ]
  },
  {
   "cell_type": "code",
   "execution_count": null,
   "metadata": {},
   "outputs": [],
   "source": []
  },
  {
   "cell_type": "code",
   "execution_count": null,
   "metadata": {},
   "outputs": [],
   "source": []
  }
 ],
 "metadata": {
  "kernelspec": {
   "display_name": "Python 3",
   "language": "python",
   "name": "python3"
  },
  "language_info": {
   "codemirror_mode": {
    "name": "ipython",
    "version": 3
   },
   "file_extension": ".py",
   "mimetype": "text/x-python",
   "name": "python",
   "nbconvert_exporter": "python",
   "pygments_lexer": "ipython3",
   "version": "3.8.1"
  }
 },
 "nbformat": 4,
 "nbformat_minor": 4
}
