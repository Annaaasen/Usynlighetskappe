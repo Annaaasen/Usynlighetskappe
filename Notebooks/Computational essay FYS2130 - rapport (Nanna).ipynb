{
 "cells": [
  {
   "cell_type": "markdown",
   "metadata": {},
   "source": [
    "# Har vi funnet en av dødstalismanene?\n",
    "### Computational essay av Nanna Bryne\n",
    "### FYS2130 Svingninger og bølger (våren 2021)"
   ]
  },
  {
   "cell_type": "markdown",
   "metadata": {},
   "source": [
    "Professor i fysikk Erik Adli har instruert oss ungdommer (les: tyveåringer) om \"[...] grunnleggene aspekter om mekaniske og elektriske svingninger, samt en hel del om forskjellige typer bølger.\" (fra emnebeskrivelsen i FYS2130) Det vi ikke visste, var at han er på hemmelig oppdrag fra Galtvort, ute etter å finne en forsvunnet dødstalisman, nemlig Harry Potters usynlighetskappe. Som lærde i magiverdenen, har vi ikke oversett den skjulte agendaen, og anser det som vår plikt overfor rektor McSnurp å gjøre alt vi kan for å finne denne. Sammen med medamatørfysiker Anna Pauline Hjertvik Aasen, skal jeg forsøke å bruke det vi har lært til å sette sammen usynlighetskappen. "
   ]
  },
  {
   "cell_type": "code",
   "execution_count": 1,
   "metadata": {},
   "outputs": [],
   "source": [
    "import numpy as np\n",
    "import matplotlib.pyplot as plt"
   ]
  },
  {
   "cell_type": "code",
   "execution_count": 2,
   "metadata": {},
   "outputs": [],
   "source": [
    "def DeathlyHallows():\n",
    "    cloak = np.array([[-1,0], [1,0], [0,1.35], [-1,0]])\n",
    "    wand = np.array([[0,0], [0,1.35]])\n",
    "    theta = np.linspace(0, 2*np.pi, 1000)\n",
    "    stonex = 0.5*np.cos(theta)\n",
    "    stoney = 0.5*np.sin(theta) + 0.5\n",
    "    plt.plot(cloak[:,0], cloak[:,1], lw=3, c='olive')\n",
    "    plt.plot(wand[:,0], wand[:,1], ls='--', c='grey')\n",
    "    plt.plot(stonex, stoney, ls='--', c='grey')\n",
    "    plt.axis('equal')\n",
    "    plt.title('Dødstalismanene')\n",
    "    plt.show()"
   ]
  },
  {
   "cell_type": "code",
   "execution_count": 3,
   "metadata": {},
   "outputs": [
    {
     "data": {
      "image/png": "[encoded data removed]",
      "text/plain": [
       "<Figure size 432x288 with 1 Axes>"
      ]
     },
     "metadata": {
      "needs_background": "light"
     },
     "output_type": "display_data"
    }
   ],
   "source": [
    "DeathlyHallows()"
   ]
  },
  {
   "cell_type": "markdown",
   "metadata": {},
   "source": [
    "# Har vi en plan?\n",
    "Vi skal i utgangspunktet se på materialer som finnes. Dersom dette viser seg umulig, ser vi på hypotetiske materialer. Tanken er å tilpasse brytningen fra innkommende lys slik at det ikke reflekteres synlig lys fra mennesket inni kappen. Vi vil blant annet bruke Snells lov; $$n_i \\sin(i) = n_b \\sin(b),$$ der $n_i$ og $n_b$ er brytningsindeksene til henholdsvis første og andre medium, og $i$ og $b$ er vinklene. Det kan også bli aktuelt å se på impedans. Vi har i tillegg noen ideer som likner mekanismen i en ultralydundersøkelse. Den siste (og kanskje beste) ideen vi har dreier seg om å sette sammen materialer slik at lyset følger en bestemt vei gjennom kappen, altså rundt mennesket. Vi har tenkt til å anta monokromatisk lys, og variere bølgelengder (f.eks. rødt vs. blått lys).\n",
    "\n",
    "Så, nei, vi har ikke en plan."
   ]
  },
  {
   "cell_type": "markdown",
   "metadata": {},
   "source": [
    "# Hvordan skal vi grave ned Harry?\n",
    "\n",
    "Det er mange konsepter i fysikken som kan brukes til å forme et system slik vi ønsker det. Tanken er å rett og slett endre veien synlig lys går for å omgå mennesket under kappen, la oss kalle han Harry. Av fenomener og konsepter som kan endre veien til lys inngår impedans (???), speil (refleksjon), brytning (refraksjon), linser og generell relativitet (e.g. sorte hull). Vi blir nødt til å velge oss en tilnærming til dette problemet som ikke tar for seg altfor mange forskellige fysiske konsepter, da vi ikke har mer enn noen få uker igjen før Harry virkelig må ha kappen sin. Etter mange youtube-videoer, én-til-én-konsultasjoner og sprøe ideer, har vi kommet fram til en strategi. Vi vil endre lysets bane ved hjelp av ulike materialer med ulike brytningsindekser. Denne metoden deler vi opp i de to mulige løsninger. Til å begynne med, tar vi ikke høyde for dispersjon.\n",
    "\n",
    "La oss holde oss i to dimensjoner. Vi ønsker å lage en kappe som leder lyset som i utgangspunktet skal reflekteres av Harrys kropp og føres inn i Voldemorts øyne, i en bane som omgår Harry og heller treffer bakgrunnen. Her er det uendelig mange ting å tenke på, så vi må forenkle situasjonen ganske kraftig. Vi har valgt å fokusere på å tvinge frem bildet av bakgrunnen, fremfor å stanse de innkommende solstrålene som skal treffe Harry og reflekteres. Her tror jeg det passer med en figur:\n",
    "\n",
    "<img src=\"fig1_ce.png\" width=600>\n",
    "\n",
    "**FIGUR 1**: Situasjonen illustrert, med den ønskelige banen til lyset. \n",
    "\n",
    "For enkelhets skyld, sier vi at bakgrunnen er utsyrt med LINSER / SPEIL (???) slik at lyset som reflekteres, reflekteres vannrett inn på baksiden av kappen. Tanken er å lage en kappe som består av materialer i hvilke lyset endrer hastighet. Men hvordan må de vinkles? Og kan vi bøye lyset hvilken som helst vei? Dette skal vi undersøke ved å benytte én av de to følgende modelleringene."
   ]
  },
  {
   "cell_type": "markdown",
   "metadata": {},
   "source": [
    "## **I**: Diskret endring av brytningsindeks $n(\\mathbf{r})$\n",
    "\n",
    "Kan vi sette sammen ulike materialer med ulik brytningsindeks for å lede lyset slik vi vil? Hvor mange ville vi trengt? \n",
    "\n",
    "<img src=\"fig2_ce.png\" width=500>\n",
    "\n",
    "**FIGUR 2**: Diskret endring av brytningsindeks.\n",
    "\n",
    "De ulike lagene har en brytningsindeks tilpasset slik at lyset avbøyes som vist på figuren. Men er det mulig da? Og hvordan kan vi ta høyde for lys fra ulike vinkler? Det blir også nødvendig å se på hvordan materialene må vinkles for å få refraksjon. Illustrasjonen ovenfor er noe misvisende i det at lyset kommer tilsynelatende vinkelrett på det gulgrønne materialet og får en bøyning etter det, noe som strider mot Snells lov. \n",
    "\n",
    "Kanskje må vi ha veldig mange ulike materialer i kappen. Er det enklere å lage en kontinuerlig profil? Vi tenker oss at sonene blir uendelig tynne."
   ]
  },
  {
   "cell_type": "markdown",
   "metadata": {},
   "source": [
    "## **II**: Kontinuerlig endring av brytningsindeks $n(\\mathbf{r})$\n",
    "\n",
    "Inspirasjonen her er hentet fra en oppgave i FYS3140 (Matematiske metoder i fysikk) som forklarte hvordan og hvorfor vi kan se himmelen i asfalten på varme dager. I korte trekk dreide den seg om å anta en lineær endring i brytningsindeks $n(\\mathbf{r}) = n(y)$ oppover y-aksen som følge av temperaturforskjellen. Ved bruk av Fermats prinsipp  og Euler-Lagrange-likningene som vi skal presentere senere, resulterer dette i at lyset går i en parabel og vi kan lyset fra himmelen når vi kikker skrått nedover (se figur XX).\n",
    "\n",
    "<img src=\"fig3_ce.png\" width=600>\n",
    "\n",
    "**FIGUR 3**: Varm asfalt-eksempelet.\n",
    "\n",
    "Vi ser for oss en kappe med en fasong som omgår Harry. Dette ønsker vi skal være banen til lyset. Kan vi, utfra denne, finne den nødvendige funksjonen $n(\\mathbf{r})$? Hvis vi klarer det, kan vi lage flere baner slik at lys fra alle høyder omgår Harry? Eller klarer vi kanskje lede alt av lyset gjennom samme ene kappe-lag?\n",
    "\n",
    "<img src=\"fig4_ce.png\" width=600>\n",
    "\n",
    "**FIGUR 4**: Kontinuerlig endring av brytningsindeks."
   ]
  },
  {
   "cell_type": "markdown",
   "metadata": {},
   "source": [
    "# Sannhetens øyeblikk\n",
    "\n",
    "Det virker for oss aller tøffest å lage en kappe med et kontinuerlig brytningsfelt $n(\\mathbf{r})$, så vi går for **II**.\n",
    "\n",
    "Vi forholder oss til to dimensjoner, så $n(\\mathbf{r}) = n(x,y)$. Vi lar $y = y(x)$ være en enkel kurve slik at brytningsindeksen bare endrer seg med x-aksen; \n",
    "\n",
    "$$n(x,y) = n(x, y(x)) = n(x).$$\n",
    "\n",
    "Kurven $y(x)$ representerer lysets bane. Denne kan være nesten hva som helst, men må være kontinuerlig og går bare enten med eller mot x-aksen. \n",
    "\n",
    "Etter mye drodling, gjenkjenner vi kurvene vi tegner som Gauss-kurver;\n",
    "\n",
    "$$y(x) = h_i e^{-x^2/(2\\sigma_i^2)},$$\n",
    "\n",
    "der $h_i$, $\\sigma_i$ er henholdsvis høyden og \"standardavviket\" på kappelag $i$. Vi setter Harry i origo slik at \"gjennomsnittet\" $\\mu=0$.\n",
    "Vi tror denne kurven er hensiktsmessig da den kan tilpasses enkelt, er symmetrisk og retter seg ut langs x-aksen. Iallfall for alle lysstråler som kommer vannrett inn på \"banen sin\", vil vi kanskje kunne slippe å måtte bøye dem drastisk ved inntrengningen.\n",
    "\n"
   ]
  },
  {
   "cell_type": "markdown",
   "metadata": {},
   "source": [
    "# Fysikken\n",
    "\n",
    "Vi skal kort gå gjennom noen fysiske konsepter som vi kommer til å bruke i modelleringen.\n",
    "\n",
    "-----------------------------\n",
    "\n",
    "**Brytningsindeksen** $n$ til et stoff forteller hvor stor evne stoffet har til å lede lys. Indeksen er definert utifra det utgangspunkt at vakuum har $n=1$. Luft er såpass tynt, at brytningsindeksen til denne ofte sies å være som i vakuum, $n=1$. Sammen med Snells lov (denne skal vi komme tilbake til), betyr da dette i praksis at brytningsindeksen til et materiale inneholder informasjon hvor mye lys blir avbøyd i overgangen fra luft/vakuum til nevnt materiale, eller vice versa. \n",
    "\n",
    "-----------------------------\n",
    "\n",
    "**Snells lov** beskriver en situasjon der lys beveger seg fra et medium $a$ med brytningsindeks $n_a$ til et medium $b$ med brytningsindeks $n_b$. Hvis lyset har en vinkel $\\theta_a$ med normalen til grenseflaten, kan vi finne vinkelen den får i $b$, $\\theta_b$, ved\n",
    "\n",
    "$$n_a \\sin{\\theta_a} = n_a \\sin{\\theta_b}.$$\n",
    "\n",
    "<img src=\"fig5_ce.png\" width=600>\n",
    "\n",
    "**FIGUR 5**: Snells lov.\n",
    "\n",
    "-----------------------------\n",
    "\n",
    "**Fermats prinsipp** kan skrives med hensyn på brytningsindeksen $n = n(x,y,z)$ som\n",
    "\n",
    "$$\\delta P = \\delta \\int_{s_1}^{s_2} n \\text{ d}s = 0$$\n",
    "\n",
    "og heter seg at lyset alltid beveger seg fra $s_1$ til $s_2$ i den banen som tar kortest tid å gjennomføre. I vanlig euklidske rom der brytningsindeksen er konstant lik 1, vil dette alltid svare til en rett linje i rommet. \n",
    "\n",
    "Vi skriver opp **Euler-Lagrange-likningen** som minimerer $P = \\int F(x, y, y') \\text{ d}x$ der $y=y(x)$ og $y' = \\frac{\\text{d}y}{\\text{d}x}$;\n",
    "\n",
    "$$\\frac{\\partial F }{\\partial y} - \\frac{\\text{d}}{\\text{d}x} \\left( \\frac{\\partial F }{\\partial y'}\\right) = 0,$$\n",
    "\n",
    "men går ikke noe dypere inn i dette.\n",
    "\n",
    "-----------------------------"
   ]
  },
  {
   "cell_type": "markdown",
   "metadata": {},
   "source": [
    "# Matematikken\n",
    "\n",
    "Vi lar $n(x, y) = n(x, y(x)) = n(x)$ være brytningsindeksen langs en kurve $y(x)$. Vi bruker Fermats prinsipp og at $\\text{d}s = \\sqrt{\\text{d}x^2+\\text{d}y^2} =\\sqrt{1+y'^2}\\text{d}x $ til å finne uttrykket\n",
    "\n",
    "$$ P =  \\int_{s_1}^{s_2} n(x) \\sqrt{1+y'^2}\\text{d}x = \\int_{s_1}^{s_2} F(x, y') \\text{d}x$$.\n",
    "\n",
    "Altså er $F = F(x, y') = n(x) \\sqrt{1+y'^2}$. Innsatt i Euler-Lagrange-likningen, blir det første leddet $\\frac{\\partial F }{\\partial y} = 0$ lik null, ettersom $F = F(x, y')$ ikke er avhengig av $y$. Da må også det andre leddet bli null,\n",
    "\n",
    "$$\\frac{\\text{d}}{\\text{d}x} \\left( \\frac{\\partial F }{\\partial y'}\\right) = 0,$$\n",
    "\n",
    "som impliserer at $\\frac{\\partial F }{\\partial y'}$ må være konstant. Vi kan nå finne et utrykk for $n=n(x)$. \n",
    "\n",
    "\\begin{align}\n",
    "\\frac{\\partial F }{\\partial y'} &= K \\\\\n",
    "\\frac{\\partial}{\\partial y'} (n \\sqrt{1+y'^2}) &= K \\\\\n",
    "\\frac{n y'}{\\sqrt{1+y'^2}} &= K\\\\\n",
    "\\Rightarrow n(x) &=\\frac{K \\sqrt{1+(y'(x))^2} }{y'(x)}\n",
    "\\end{align}\n",
    "\n",
    "Vi kan også forenkle konstanten $K$ ved å observere at $y'= \\frac{\\text{d}y}{\\text{d}x} = \\tan{\\varphi} = \\frac{\\sin{\\varphi}}{\\cos{\\varphi}}$ der $\\varphi$ er vinkelen banen har med x-aksen.\n",
    "\n",
    "\\begin{align}\n",
    "K &= \\frac{n y'}{\\sqrt{1+y'^2}} \\cdot \\frac{\\cos{\\varphi}}{\\cos{\\varphi}} \\\\\n",
    "\\Rightarrow K &= n(x) \\cdot \\sin{\\varphi}\n",
    "\\end{align}\n",
    "\n",
    "Dette betyr også at $n(x)\\sin{\\varphi}$ alltid er den samme langs kurven.\n",
    "\n",
    "Så hvordan bestemmer vi $K$? Og fungerer dette med alle kurver $y(x)$? "
   ]
  },
  {
   "cell_type": "markdown",
   "metadata": {},
   "source": [
    "# Magien\n",
    "\n",
    "Vi skal gjøre en hel den antakelser for å få dette til å gå opp. \n",
    "\n",
    "- Både Voldemort og Harry står i ro.\n",
    "- Lyset reflekteres fra bakgrunnen (selv om Harry er i veien...) horisontalt mot Harry\n",
    "- Vi antar sylindersymmetri om Harry, og holder oss derfor i to dimensjoner.\n",
    "\n",
    "Vi har også antatt ingen/negisjerbar dispersjon i materialene, men dette er noe vi hadde ambisjoner om å undersøke nøyere, som vi ikke rakk.\n",
    "        \n",
    "---------------\n",
    "\n",
    "Gjør vi alle disse antakelsene, samt legger godvilja til, kan vi konstruere en usynlighetskappe på følgende vis:\n",
    "\n",
    "1. Vi tenker oss at kappen består av $N$ lag. \n",
    "2. Hvert kappelag $i$ har sin fasong $y_i(x)$ og brytningsindeksfunksjon $n_i(x)$.\n",
    "3. Materialene på baksiden av kappen (høyre side på figur 1) har vertikale grensesnitt slik at de horisontale lysstrålene ikke brytes.\n",
    "4. Materialene på forsiden av kappen (venstre side på figur 1) har skrå grensesnitt tilpasset slik at lysstrålene brytes og treffer øynene til Voldemort.\n",
    "5. Der $y_i'(x)\\rightarrow 0$ vil $n_i(x)\\rightarrow \\infty$. Dette løser vi ved å plassere et speil i kappen der dette skjer.\n",
    "\n",
    "-------------"
   ]
  },
  {
   "cell_type": "markdown",
   "metadata": {},
   "source": [
    "# Kodingen"
   ]
  },
  {
   "cell_type": "markdown",
   "metadata": {},
   "source": [
    "La oss først se på ett kappelag, og det være det innerste. "
   ]
  },
  {
   "cell_type": "code",
   "execution_count": null,
   "metadata": {},
   "outputs": [],
   "source": []
  },
  {
   "cell_type": "markdown",
   "metadata": {},
   "source": []
  },
  {
   "cell_type": "markdown",
   "metadata": {},
   "source": [
    "# [konklusjon]\n",
    "- funker dette?\n",
    "- er antakelsene rimelige?\n",
    "\n",
    "Alle vet rett og slett hvor Harry er gravd ned. Alle vet at Harry er død. Sorry."
   ]
  },
  {
   "cell_type": "markdown",
   "metadata": {},
   "source": [
    "# Referanser\n",
    "\n",
    "- Lecture notes og oppgaver i FYS3140\n",
    "- https://en.wikipedia.org/wiki/Fermat%27s_principle\n",
    "- https://en.wikipedia.org/wiki/Euler%E2%80%93Lagrange_equation"
   ]
  },
  {
   "cell_type": "code",
   "execution_count": null,
   "metadata": {},
   "outputs": [],
   "source": []
  }
 ],
 "metadata": {
  "kernelspec": {
   "display_name": "Python 3",
   "language": "python",
   "name": "python3"
  },
  "language_info": {
   "codemirror_mode": {
    "name": "ipython",
    "version": 3
   },
   "file_extension": ".py",
   "mimetype": "text/x-python",
   "name": "python",
   "nbconvert_exporter": "python",
   "pygments_lexer": "ipython3",
   "version": "3.8.5"
  }
 },
 "nbformat": 4,
 "nbformat_minor": 4
}
